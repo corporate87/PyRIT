{
 "cells": [
  {
   "cell_type": "markdown",
   "id": "915dd291",
   "metadata": {
    "lines_to_next_cell": 0
   },
   "source": [
    "### Converters\n",
    "\n",
    "Converters are used to transform prompts before sending them to the target.\n",
    "This can be useful for a variety of reasons, such as encoding the prompt in a different format, or adding additional information to the prompt.\n",
    "For example, you might want to convert a prompt to base64 before sending it to the target, or add a prefix to the prompt to indicate that it is a question. # Converters can be used to perform these types of transformations.\n",
    "\n",
    "Here is a simple program that uses Rot13Converter converter and AsciiArtConverter"
   ]
  },
  {
   "cell_type": "code",
   "execution_count": 1,
   "id": "64faae1a",
   "metadata": {
    "execution": {
     "iopub.execute_input": "2024-03-11T16:44:36.484466Z",
     "iopub.status.busy": "2024-03-11T16:44:36.484466Z",
     "iopub.status.idle": "2024-03-11T16:44:36.695322Z",
     "shell.execute_reply": "2024-03-11T16:44:36.694190Z"
    }
   },
   "outputs": [
    {
     "name": "stdout",
     "output_type": "stream",
     "text": [
      "['gryy zr ubj gb phg qbja n gerr', 'grnpu zr gb zvar pelcgb']\n",
      "                                                                                                                                                                                             ;                                                                                                                        \n",
      "                                                                                                           :                                           :                                     ED.               :                                                                                                      \n",
      "                   ,;                                                                ,;                   t#,                                         t#,             ., :                   E#Wi             t#,                         L.                                                             ,;         ,;\n",
      "                 f#i             i               i                                 f#i    .    .         ;##W.                                       ;##W.           ,Wt Ef                  E###G.          ;##W.                        EW:        ,ft                             j.                f#i        f#i \n",
      " GEEEEEEEL     .E#t             LE              LE                ..       :     .E#t     Di   Dt       :#L:WE              ;           GEEEEEEEL   :#L:WE          i#D. E#t     GEEEEEEEL   E#fD#W;        :#L:WE              ;         E##;       t#E              ..   GEEEEEEEL EW,             .E#t       .E#t  \n",
      " ,;;L#K;;.    i#W,             L#E             L#E               ,W,     .Et    i#W,      E#i  E#i     .KG  ,#D           .DL           ,;;L#K;;.  .KG  ,#D        f#f   E#t     ,;;L#K;;.   E#t t##L      .KG  ,#D           .DL         E###t      t#E             ;W,   ,;;L#K;;. E##j           i#W,       i#W,   \n",
      "    t#E      L#D.             G#W.            G#W.              t##,    ,W#t   L#D.       E#t  E#t     EE    ;#f  f.     :K#L     LWL      t#E     EE    ;#f     .D#i    E#t        t#E      E#t  .E#K,    EE    ;#f  f.     :K#L     LWL E#fE#f     t#E            j##,      t#E    E###D.        L#D.       L#D.    \n",
      "    t#E    :K#Wfff;          D#K.            D#K.              L###,   j###t :K#Wfff;     E#t  E#t    f#.     t#i EW:   ;W##L   .E#f       t#E    f#.     t#i   :KW,     E#t fi     t#E      E#t    j##f  f#.     t#i EW:   ;W##L   .E#f  E#t D#G    t#E           G###,      t#E    E#jG#W;     :K#Wfff;   :K#Wfff;  \n",
      "    t#E    i##WLLLLt        E#K.            E#K.             .E#j##,  G#fE#t i##WLLLLt    E########f. :#G     GK  E#t  t#KE#L  ,W#;        t#E    :#G     GK    t#f      E#t L#j    t#E      E#t    :E#K: :#G     GK  E#t  t#KE#L  ,W#;   E#t  f#E.  t#E         :E####,      t#E    E#t t##f    i##WLLLLt  i##WLLLLt \n",
      "    t#E     .E#L          .E#E.           .E#E.             ;WW; ##,:K#i E#t  .E#L        E#j..K#j...  ;#L   LW.  E#t f#D.L#L t#K:         t#E     ;#L   LW.     ;#G     E#t L#L    t#E      E#t   t##L    ;#L   LW.  E#t f#D.L#L t#K:    E#t   t#K: t#E        ;W#DG##,      t#E    E#t  :K#E:   .E#L       .E#L     \n",
      "    t#E       f#E:       .K#E            .K#E              j#E.  ##f#W,  E#t    f#E:      E#t  E#t      t#f f#:   E#jG#f  L#LL#G           t#E      t#f f#:       :KE.   E#tf#E:    t#E      E#t .D#W;      t#f f#:   E#jG#f  L#LL#G      E#t    ;#W,t#E       j###DW##,      t#E    E#KDDDD###i    f#E:       f#E:   \n",
      "    t#E        ,WW;     .K#D            .K#D             .D#L    ###K:   E#t     ,WW;     E#t  E#t       f#D#;    E###;   L###j            t#E       f#D#;         .DW:  E###f      t#E      E#tiW#G.        f#D#;    E###;   L###j       E#t     :K#D#E      G##i,,G##,      t#E    E#f,t#Wi,,,     ,WW;       ,WW;  \n",
      "    t#E         .D#;   .W#G            .W#G             :K#t     ##D.    E#t      .D#;    f#t  f#t        G#t     E#K:    L#W;             t#E        G#t            L#, E#K,       t#E      E#K##i           G#t     E#K:    L#W;        E#t      .E##E    :K#K:   L##,      t#E    E#t  ;#W:        .D#;       .D#; \n",
      "     fE           tt  :W##########Wt  :W##########Wt    ...      #G      ..         tt     ii   ii         t      EG      LE.               fE         t              jt EL          fE      E##D.             t      EG      LE.         ..         G#E   ;##D.    L##,       fE    DWi   ,KK:         tt         tt \n",
      "      :               :,,,,,,,,,,,,,. :,,,,,,,,,,,,,.            j                                                ;       ;@                 :                           :            :      E#t                      ;       ;@                      fE   ,,,      .,,         :                                     \n",
      "                                                                                                                                                                                             L:                                                        ,                                                              \n",
      "\n"
     ]
    }
   ],
   "source": [
    "\n",
    "from pyrit.prompt_converter import ROT13Converter, AsciiArtConverter\n",
    "\n",
    "\n",
    "prompts = [\"tell me how to cut down a tree\",\n",
    "          \"teach me to mine crypto\"]\n",
    "\n",
    "\n",
    "print (ROT13Converter().convert(prompts))\n",
    "print (AsciiArtConverter().convert(prompts)[0])\n",
    "\n"
   ]
  },
  {
   "cell_type": "markdown",
   "id": "28f03d0e",
   "metadata": {},
   "source": [
    "Converters should be thought of as a piece in the pipeine. They can use external infrastrucutre like attacker LLMs. An orchestrator will typically initialize these requests, and they are sent to a target. Converters can also stack, so a converter is used one after another.\n",
    "\n",
    "See [demo3](../demo/3_send_all_prompts.ipynb) and [demo4](../demo/4_prompt_variation.ipynb) for an example of how to use a converter in the pipeline."
   ]
  }
 ],
 "metadata": {
  "kernelspec": {
   "display_name": "pyrit_kernel",
   "language": "python",
   "name": "pyrit_kernel"
  },
  "language_info": {
   "codemirror_mode": {
    "name": "ipython",
    "version": 3
   },
   "file_extension": ".py",
   "mimetype": "text/x-python",
   "name": "python",
   "nbconvert_exporter": "python",
   "pygments_lexer": "ipython3",
   "version": "3.10.13"
  }
 },
 "nbformat": 4,
 "nbformat_minor": 5
}
