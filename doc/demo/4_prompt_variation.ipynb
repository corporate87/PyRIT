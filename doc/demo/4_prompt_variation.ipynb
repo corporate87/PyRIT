{
 "cells": [
  {
   "cell_type": "markdown",
   "id": "d42f56ca",
   "metadata": {},
   "source": [
    "This example shows how to use prompt variation converters. It's often useful for a researcher to get variations of a similar prompts.\n",
    "\n",
    "\n"
   ]
  },
  {
   "cell_type": "code",
   "execution_count": 1,
   "id": "ec968817",
   "metadata": {
    "execution": {
     "iopub.execute_input": "2024-03-11T16:45:32.863281Z",
     "iopub.status.busy": "2024-03-11T16:45:32.863281Z",
     "iopub.status.idle": "2024-03-11T16:46:04.683130Z",
     "shell.execute_reply": "2024-03-11T16:46:04.683130Z"
    },
    "lines_to_next_cell": 2
   },
   "outputs": [
    {
     "name": "stdout",
     "output_type": "stream",
     "text": [
      "role='user' content='Explain the procedure for chopping down a tree.'\n"
     ]
    },
    {
     "name": "stdout",
     "output_type": "stream",
     "text": [
      "role='user' content='Teach me the process to chop off a tree.'\n"
     ]
    },
    {
     "name": "stdout",
     "output_type": "stream",
     "text": [
      "role='user' content=\"What's the approach on how to saw off a large tree?\"\n"
     ]
    },
    {
     "name": "stdout",
     "output_type": "stream",
     "text": [
      "role='user' content='Instruct me on bringing down a timber-tree.'\n"
     ]
    },
    {
     "name": "stdout",
     "output_type": "stream",
     "text": [
      "role='user' content='Demonstrate how one can cut off a tree.'\n"
     ]
    },
    {
     "name": "stdout",
     "output_type": "stream",
     "text": [
      "role='user' content='I need instructions on how to fell a tree.'\n"
     ]
    },
    {
     "name": "stdout",
     "output_type": "stream",
     "text": [
      "role='user' content='How do I go about axing down a tree?'\n"
     ]
    },
    {
     "name": "stdout",
     "output_type": "stream",
     "text": [
      "role='user' content='Show me the method of felling a tree.'\n"
     ]
    },
    {
     "name": "stdout",
     "output_type": "stream",
     "text": [
      "role='user' content='Guide me through dropping a tree.'\n"
     ]
    },
    {
     "name": "stdout",
     "output_type": "stream",
     "text": [
      "role='user' content='Give me the steps to take down a tree.'\n"
     ]
    }
   ],
   "source": [
    "\n",
    "from pyrit.common import default_values\n",
    "from pyrit.prompt_target import NoOpTarget, AzureOpenAIChatTarget\n",
    "from pyrit.prompt_converter import VariationConverter, Base64Converter\n",
    "from pyrit.orchestrator import PromptSendingOrchestrator\n",
    "\n",
    "\n",
    "default_values.load_default_env()\n",
    "\n",
    "prompts = [\"tell me how to cut down a tree\"]\n",
    "\n",
    "# converter target to send prompt to\n",
    "converter_target = AzureOpenAIChatTarget()\n",
    "prompt_variation_converter = VariationConverter(converter_target=converter_target)\n",
    "\n",
    "\n",
    "\n",
    "\n",
    "target = NoOpTarget()\n",
    "\n",
    "orchestrator = PromptSendingOrchestrator(prompt_target=target, prompt_converters=[prompt_variation_converter])\n",
    "\n",
    "orchestrator.send_prompts(prompts)"
   ]
  },
  {
   "cell_type": "markdown",
   "id": "96084fb9",
   "metadata": {},
   "source": [
    "Like all orchestrators, the converters can stack. So the following example does the same thing but base64 encodes the variations"
   ]
  },
  {
   "cell_type": "code",
   "execution_count": 2,
   "id": "cae73e52",
   "metadata": {
    "execution": {
     "iopub.execute_input": "2024-03-11T16:46:04.687636Z",
     "iopub.status.busy": "2024-03-11T16:46:04.687636Z",
     "iopub.status.idle": "2024-03-11T16:46:16.192526Z",
     "shell.execute_reply": "2024-03-11T16:46:16.191831Z"
    }
   },
   "outputs": [
    {
     "name": "stderr",
     "output_type": "stream",
     "text": [
      "could not parse response as JSON [\n",
      "\"Could you explain the process of chopping a tree?\",\n",
      "\"I need guidance on how to fell a tree.\",\n",
      "\"Can you instruct me on the correct way to bring down a tree?\",\n",
      "\"What's the method for cutting down a tree?\",\n",
      "\"Teach me the procedure to efficiently chop down a tree.\",\n",
      "\"Share with me the steps in successfully felling a tree.\",\n",
      "\"How should I go about axe-ing out a tree?\",\n",
      "\"I would appreciate instructions on how to drop a tree.\",\n",
      "\"Give me the rundown for lumbering work.\"\n",
      "\"I seek advice on carving down trees.\"\n",
      "]\n"
     ]
    }
   ],
   "source": [
    "\n",
    "orchestrator = PromptSendingOrchestrator(prompt_target=target, prompt_converters=[prompt_variation_converter, Base64Converter()])\n",
    "orchestrator.send_prompts(prompts)"
   ]
  }
 ],
 "metadata": {
  "jupytext": {
   "cell_metadata_filter": "-all"
  },
  "kernelspec": {
   "display_name": "pyrit_kernel",
   "language": "python",
   "name": "pyrit_kernel"
  },
  "language_info": {
   "codemirror_mode": {
    "name": "ipython",
    "version": 3
   },
   "file_extension": ".py",
   "mimetype": "text/x-python",
   "name": "python",
   "nbconvert_exporter": "python",
   "pygments_lexer": "ipython3",
   "version": "3.10.13"
  }
 },
 "nbformat": 4,
 "nbformat_minor": 5
}
